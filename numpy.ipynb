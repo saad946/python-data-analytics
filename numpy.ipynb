{
 "cells": [
  {
   "cell_type": "code",
   "execution_count": 2,
   "id": "db32e168-5593-443f-b332-58cafa4c7dd5",
   "metadata": {},
   "outputs": [],
   "source": [
    "import numpy as np"
   ]
  },
  {
   "cell_type": "code",
   "execution_count": 3,
   "id": "9f073aae-9ed2-4e56-9642-cb6be3cbfeac",
   "metadata": {},
   "outputs": [],
   "source": [
    "arr1 = np.array([[10,3,6,8,9],[8,9,4,7,3]])\n",
    "arr2 = np.array([[66,74,98,58,9],[69,8,6,87,21]])"
   ]
  },
  {
   "cell_type": "code",
   "execution_count": 8,
   "id": "2c8e2e01-161b-4e15-b13d-aadf4d3d5b5e",
   "metadata": {},
   "outputs": [
    {
     "name": "stdout",
     "output_type": "stream",
     "text": [
      "[[10  3  6  8  9]\n",
      " [ 8  9  4  7  3]]\n"
     ]
    }
   ],
   "source": [
    "print(arr1)"
   ]
  },
  {
   "cell_type": "code",
   "execution_count": 9,
   "id": "332a053a-5494-4d17-83d7-802bf417ca4f",
   "metadata": {},
   "outputs": [
    {
     "name": "stdout",
     "output_type": "stream",
     "text": [
      "<class 'numpy.ndarray'>\n"
     ]
    }
   ],
   "source": [
    "print(type(arr2))"
   ]
  },
  {
   "cell_type": "code",
   "execution_count": 10,
   "id": "224e1566-2c4a-4004-bf29-a25d0fa0b0ba",
   "metadata": {},
   "outputs": [
    {
     "name": "stdout",
     "output_type": "stream",
     "text": [
      "[[66 74 98 58  9]\n",
      " [69  8  6 87 21]]\n"
     ]
    }
   ],
   "source": [
    "print(arr2[0:])"
   ]
  },
  {
   "cell_type": "code",
   "execution_count": 11,
   "id": "0b7fdc1d-0ae9-4397-a5a2-ad2fd1cfd335",
   "metadata": {},
   "outputs": [
    {
     "name": "stdout",
     "output_type": "stream",
     "text": [
      "[ 6 87]\n"
     ]
    }
   ],
   "source": [
    "print(arr2[1,2:4])"
   ]
  },
  {
   "cell_type": "code",
   "execution_count": 12,
   "id": "d3518abb-ac7c-4947-a505-4264aaf69aee",
   "metadata": {},
   "outputs": [
    {
     "name": "stdout",
     "output_type": "stream",
     "text": [
      "(2, 5)\n"
     ]
    }
   ],
   "source": [
    "print(np.shape(arr2)) #rows,cloumn"
   ]
  },
  {
   "cell_type": "code",
   "execution_count": 13,
   "id": "2a824cec-c8cf-4131-b434-571e49a71370",
   "metadata": {},
   "outputs": [
    {
     "name": "stdout",
     "output_type": "stream",
     "text": [
      "10\n"
     ]
    }
   ],
   "source": [
    "print(np.size(arr2))"
   ]
  },
  {
   "cell_type": "code",
   "execution_count": 14,
   "id": "ba0540d8-f693-4288-a1ba-e54137f10c09",
   "metadata": {},
   "outputs": [
    {
     "name": "stdout",
     "output_type": "stream",
     "text": [
      "2\n"
     ]
    }
   ],
   "source": [
    "print(np.ndim(arr2))"
   ]
  },
  {
   "cell_type": "code",
   "execution_count": 15,
   "id": "02062212-b29a-48a9-89ac-95669786446c",
   "metadata": {},
   "outputs": [
    {
     "name": "stdout",
     "output_type": "stream",
     "text": [
      "int64\n"
     ]
    }
   ],
   "source": [
    "print(arr2.dtype)"
   ]
  },
  {
   "cell_type": "code",
   "execution_count": 16,
   "id": "5017198f-18c8-44e6-aeab-7aa01ccca3a9",
   "metadata": {},
   "outputs": [
    {
     "name": "stdout",
     "output_type": "stream",
     "text": [
      "2\n"
     ]
    }
   ],
   "source": [
    "print(len(arr2)) #no of nedted values"
   ]
  },
  {
   "cell_type": "code",
   "execution_count": 17,
   "id": "aba4b922-0e1e-452e-975c-4dfcc23a985c",
   "metadata": {},
   "outputs": [
    {
     "name": "stdout",
     "output_type": "stream",
     "text": [
      "[[ 76  77 104  66  18]\n",
      " [ 77  17  10  94  24]]\n"
     ]
    }
   ],
   "source": [
    "print(np.add(arr1,arr2))"
   ]
  },
  {
   "cell_type": "code",
   "execution_count": 18,
   "id": "a7bbcb20-8d52-43ec-b759-e96563155299",
   "metadata": {},
   "outputs": [
    {
     "name": "stdout",
     "output_type": "stream",
     "text": [
      "[[10  3  6  8  9]\n",
      " [ 8  9  4  7  3]\n",
      " [66 74 98 58  9]\n",
      " [69  8  6 87 21]]\n"
     ]
    }
   ],
   "source": [
    "print(np.concatenate([arr1,arr2])) #axis 1 for horizontal and 0 for vertical concatenation"
   ]
  },
  {
   "cell_type": "code",
   "execution_count": 19,
   "id": "4b7878fa-486e-4c3b-860f-fd3d15967d5f",
   "metadata": {},
   "outputs": [
    {
     "name": "stdout",
     "output_type": "stream",
     "text": [
      "0\n"
     ]
    }
   ],
   "source": [
    "print(np.ndim(a))"
   ]
  },
  {
   "cell_type": "code",
   "execution_count": 20,
   "id": "69fe7b8c-2d20-4b06-9c92-12bf7d60cf88",
   "metadata": {},
   "outputs": [
    {
     "name": "stdout",
     "output_type": "stream",
     "text": [
      "[[10  3  6  8  9 66 74 98 58  9]\n",
      " [ 8  9  4  7  3 69  8  6 87 21]]\n"
     ]
    }
   ],
   "source": [
    "print(np.hstack([arr1,arr2])) #horizontal stack"
   ]
  },
  {
   "cell_type": "code",
   "execution_count": 23,
   "id": "9f9a6e83-90f8-4169-9ba9-2043736be6f0",
   "metadata": {},
   "outputs": [
    {
     "name": "stdout",
     "output_type": "stream",
     "text": [
      "[20 50]\n",
      "[array([20, 50]), array([65, 45]), array([58, 87])]\n"
     ]
    }
   ],
   "source": [
    "a = np.array([20,50,65,45,58,87])\n",
    "b = np.array_split(a,3)\n",
    "print(b[0])\n",
    "print(b)"
   ]
  },
  {
   "cell_type": "code",
   "execution_count": 26,
   "id": "7e830633-38c8-444a-a50c-f0e1f145002f",
   "metadata": {},
   "outputs": [
    {
     "name": "stdout",
     "output_type": "stream",
     "text": [
      "[20 50 65 45 58 87 87 90]\n",
      "[20 50 65 45 58 87 90]\n"
     ]
    }
   ],
   "source": [
    "c = np.array([20,50,65,45,58,87,87])\n",
    "d = np.array([45,65,78,54,12,32,65])\n",
    "e = np.array([[20,50,65],[45,58,87]])\n",
    "print(np.append(c,90))\n",
    "print(np.append(e,90))"
   ]
  },
  {
   "cell_type": "code",
   "execution_count": 31,
   "id": "49bc8fac-37c1-4e6b-95b3-cd0694bf7915",
   "metadata": {},
   "outputs": [
    {
     "name": "stdout",
     "output_type": "stream",
     "text": [
      "[20 50 65 45 58 87 87]\n",
      "[20 50 58 65 45 58 58 87 87]\n"
     ]
    }
   ],
   "source": [
    "print(c)\n",
    "print(np.insert(c,[2,4],58)) #array,index,value"
   ]
  },
  {
   "cell_type": "code",
   "execution_count": 33,
   "id": "7b2250ef-81f4-45cb-9965-f1af475490bf",
   "metadata": {},
   "outputs": [
    {
     "name": "stdout",
     "output_type": "stream",
     "text": [
      "[20 50 65 45 58 87 87]\n",
      "[20 45 50 58 65 87 87]\n"
     ]
    }
   ],
   "source": [
    "print(c)\n",
    "print(np.sort(c))"
   ]
  },
  {
   "cell_type": "code",
   "execution_count": 35,
   "id": "8130f4f8-b9ac-4f30-9b78-86cfe800ed65",
   "metadata": {},
   "outputs": [
    {
     "name": "stdout",
     "output_type": "stream",
     "text": [
      "[20 50 65 45 58 87 87]\n",
      "(array([2]),)\n",
      "(array([0, 1, 4]),)\n"
     ]
    }
   ],
   "source": [
    "print(c)\n",
    "print(np.where(c == 65))\n",
    "print(np.where(c % 2 == 0))"
   ]
  },
  {
   "cell_type": "code",
   "execution_count": 37,
   "id": "693794f2-fa11-4b2c-a9ae-caa77468741a",
   "metadata": {},
   "outputs": [
    {
     "name": "stdout",
     "output_type": "stream",
     "text": [
      "[20 50 65 45 58 87 87]\n",
      "[20 45 50 58 65 87 87]\n",
      "1\n"
     ]
    }
   ],
   "source": [
    "print(c)\n",
    "print(np.sort(c))\n",
    "print(np.searchsorted(c,45))"
   ]
  },
  {
   "cell_type": "code",
   "execution_count": 45,
   "id": "7dd2e2eb-228b-4ef5-b2a0-cf7e2302964a",
   "metadata": {},
   "outputs": [
    {
     "name": "stdout",
     "output_type": "stream",
     "text": [
      "[20 50 65 45 58 87]\n",
      "[20 50]\n",
      "[array([20, 50]), array([65, 45]), array([58, 87])]\n",
      "[[ 76  77 104  66  18]\n",
      " [ 77  17  10  94  24]]\n",
      "[[ 76  77 104  66  18]\n",
      " [ 77  17  10  94  24]]\n",
      "563\n",
      "10\n",
      "104\n",
      "10\n",
      "56.3\n",
      "[ 76 153 257 323 341 418 435 445 539 563]\n",
      "[               76              5852            608608          40168128\n",
      "         723026304       55673025408      946441431936     9464414319360\n",
      "   889654946019840 21351718704476160]\n"
     ]
    }
   ],
   "source": [
    "print(a)\n",
    "print(b[0])\n",
    "print(b)\n",
    "print(np.add(arr1,arr2))\n",
    "print(c)\n",
    "print(np.sum(c))\n",
    "print(np.min(c))\n",
    "print(np.max(c))\n",
    "print(np.size(c))\n",
    "print(np.mean(c))\n",
    "print(np.cumsum(c))\n",
    "print(np.cumprod(c))\n"
   ]
  },
  {
   "cell_type": "code",
   "execution_count": 44,
   "id": "92dc98ba-f882-49c6-8feb-c3d2d0b47e81",
   "metadata": {},
   "outputs": [
    {
     "name": "stdout",
     "output_type": "stream",
     "text": [
      "[[10  3  6  8  9]\n",
      " [ 8  9  4  7  3]]\n",
      "[[66 74 98 58  9]\n",
      " [69  8  6 87 21]]\n",
      "Type of arr2: <class 'numpy.ndarray'>\n",
      "\n",
      "arr2[0:] (Full array):\n",
      " [[66 74 98 58  9]\n",
      " [69  8  6 87 21]]\n",
      "\n",
      "arr2[1,2:4] (Slicing the second row, elements from index 2 to 4): [ 6 87]\n",
      "\n",
      "Shape of arr2 (rows, columns): (2, 5)\n",
      "\n",
      "Size of arr2 (number of elements): 10\n",
      "\n",
      "Number of dimensions of arr2: 2\n",
      "\n",
      "Data type of elements in arr2: int64\n",
      "\n",
      "Length of arr2 (number of rows): 2\n",
      "\n",
      "Concatenation of arr1 and arr2 (vertical concatenation):\n",
      " [[10  3  6  8  9]\n",
      " [ 8  9  4  7  3]\n",
      " [66 74 98 58  9]\n",
      " [69  8  6 87 21]]\n",
      "\n",
      "Original array a: [20 50 65 45 58 87]\n",
      "\n",
      "First part of split array b[0]: [20 50]\n",
      "\n",
      "All parts of split array b: [array([20, 50]), array([65, 45]), array([58, 87])]\n",
      "\n",
      "Element-wise addition of arr1 and arr2:\n",
      " [[ 76  77 104  66  18]\n",
      " [ 77  17  10  94  24]]\n",
      "\n",
      "Sum of all elements in c: 563\n",
      "\n",
      "Minimum value in c: 10\n",
      "\n",
      "Maximum value in c: 104\n",
      "\n",
      "Size of c (number of elements): 10\n",
      "\n",
      "Mean of elements in c: 56.3\n",
      "\n",
      "Cumulative sum of elements in c: [ 76 153 257 323 341 418 435 445 539 563]\n",
      "\n",
      "Cumulative product of elements in c: [               76              5852            608608          40168128\n",
      "         723026304       55673025408      946441431936     9464414319360\n",
      "   889654946019840 21351718704476160]\n"
     ]
    }
   ],
   "source": [
    "import numpy as np\n",
    "\n",
    "# Initial arrays\n",
    "arr1 = np.array([[10, 3, 6, 8, 9], [8, 9, 4, 7, 3]])\n",
    "arr2 = np.array([[66, 74, 98, 58, 9], [69, 8, 6, 87, 21]])\n",
    "print(arr1)\n",
    "print(arr2)\n",
    "# Print array type\n",
    "print(\"Type of arr2:\", type(arr2))\n",
    "\n",
    "# Print entire arr2\n",
    "print(\"\\narr2[0:] (Full array):\\n\", arr2)\n",
    "\n",
    "# Print specific slice of arr2\n",
    "print(\"\\narr2[1,2:4] (Slicing the second row, elements from index 2 to 4):\", arr2[1, 2:4])\n",
    "\n",
    "# Shape of arr2\n",
    "print(\"\\nShape of arr2 (rows, columns):\", np.shape(arr2))\n",
    "\n",
    "# Size of arr2 (total number of elements)\n",
    "print(\"\\nSize of arr2 (number of elements):\", np.size(arr2))\n",
    "\n",
    "# Number of dimensions of arr2\n",
    "print(\"\\nNumber of dimensions of arr2:\", np.ndim(arr2))\n",
    "\n",
    "# Data type of arr2 elements\n",
    "print(\"\\nData type of elements in arr2:\", arr2.dtype)\n",
    "\n",
    "# Length of arr2 (number of nested arrays/rows)\n",
    "print(\"\\nLength of arr2 (number of rows):\", len(arr2))\n",
    "\n",
    "# Concatenation of arr1 and arr2 vertically\n",
    "concatenated = np.concatenate([arr1, arr2])\n",
    "print(\"\\nConcatenation of arr1 and arr2 (vertical concatenation):\\n\", concatenated)\n",
    "\n",
    "# Splitting a 1D array a into 3 parts\n",
    "a = np.array([20, 50, 65, 45, 58, 87])\n",
    "b = np.array_split(a, 3)\n",
    "\n",
    "# Print original array a\n",
    "print(\"\\nOriginal array a:\", a)\n",
    "\n",
    "# Print first part of split array\n",
    "print(\"\\nFirst part of split array b[0]:\", b[0])\n",
    "\n",
    "# Print all parts of split array\n",
    "print(\"\\nAll parts of split array b:\", b)\n",
    "\n",
    "# Element-wise addition of arr1 and arr2\n",
    "added_arrays = np.add(arr1, arr2)\n",
    "print(\"\\nElement-wise addition of arr1 and arr2:\\n\", added_arrays)\n",
    "\n",
    "# Define c as the result of added_arrays for further operations\n",
    "c = added_arrays\n",
    "\n",
    "# Sum of elements in c\n",
    "print(\"\\nSum of all elements in c:\", np.sum(c))\n",
    "\n",
    "# Minimum value in c\n",
    "print(\"\\nMinimum value in c:\", np.min(c))\n",
    "\n",
    "# Maximum value in c\n",
    "print(\"\\nMaximum value in c:\", np.max(c))\n",
    "\n",
    "# Size of c (total number of elements)\n",
    "print(\"\\nSize of c (number of elements):\", np.size(c))\n",
    "\n",
    "# Mean of elements in c\n",
    "print(\"\\nMean of elements in c:\", np.mean(c))\n",
    "\n",
    "# Cumulative sum of elements in c\n",
    "print(\"\\nCumulative sum of elements in c:\", np.cumsum(c))\n",
    "\n",
    "# Cumulative product of elements in c\n",
    "print(\"\\nCumulative product of elements in c:\", np.cumprod(c))\n",
    "\n"
   ]
  },
  {
   "cell_type": "code",
   "execution_count": 57,
   "id": "a7595d4a-b85c-40e5-a243-d1e4906bc402",
   "metadata": {},
   "outputs": [
    {
     "name": "stdout",
     "output_type": "stream",
     "text": [
      "[ 200 5000 5000 6500 4500  580  320  870]\n",
      "2871.25\n",
      "[ 200  320  580  870 4500 5000 5000 6500]\n",
      "2685.0\n",
      "5000\n",
      "2443.9488410152944\n",
      "5972885.9375\n",
      "[[1.         0.90546992]\n",
      " [0.90546992 1.        ]]\n"
     ]
    }
   ],
   "source": [
    "import statistics as stats\n",
    "tabacco_consumption = np.array([40,50,60,90,90,40])\n",
    "deaths = [100,120,130,140,140,90]\n",
    "print(c)\n",
    "print(np.mean(c)) #sum/no of values\n",
    "print(np.sort(c)) #sorted values\n",
    "print(np.median(c)) #middle value\n",
    "print(stats.mode(c)) #repeated value\n",
    "print(np.std(c)) # to check the data spread from the mean value, useful for quality check\n",
    "print(np.var(c)) #sq of the std varaince\n",
    "print(np.corrcoef([tabacco_consumption,deaths])) #how first thing realted with another, like o check the dependency"
   ]
  },
  {
   "cell_type": "code",
   "execution_count": null,
   "id": "27f23b12-b19a-4257-a3ee-6faa3239d4d2",
   "metadata": {},
   "outputs": [],
   "source": []
  }
 ],
 "metadata": {
  "kernelspec": {
   "display_name": "numpy_kernel",
   "language": "python",
   "name": "numpy_kernel"
  },
  "language_info": {
   "codemirror_mode": {
    "name": "ipython",
    "version": 3
   },
   "file_extension": ".py",
   "mimetype": "text/x-python",
   "name": "python",
   "nbconvert_exporter": "python",
   "pygments_lexer": "ipython3",
   "version": "3.11.4"
  }
 },
 "nbformat": 4,
 "nbformat_minor": 5
}
