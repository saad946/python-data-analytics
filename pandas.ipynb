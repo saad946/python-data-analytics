{
 "cells": [
  {
   "cell_type": "code",
   "execution_count": 2,
   "id": "388a932e-97b5-4dbb-9a3c-8750a3187f74",
   "metadata": {},
   "outputs": [],
   "source": [
    "import pandas as pd"
   ]
  },
  {
   "cell_type": "code",
   "execution_count": 3,
   "id": "74c99b22-c2f5-4969-8374-63a070df10f8",
   "metadata": {},
   "outputs": [],
   "source": [
    "data = {\n",
    "    'Name': ['Alice', 'Bob', 'Charlie', 'David'],\n",
    "    'Age': [25, 32, 23, 45],\n",
    "    'Score': [88, 92, 85, 95]\n",
    "}"
   ]
  },
  {
   "cell_type": "code",
   "execution_count": 4,
   "id": "a411c93f-e70c-4ecd-965f-2f8687bf3f1d",
   "metadata": {},
   "outputs": [],
   "source": [
    "df = pd.DataFrame(data)"
   ]
  },
  {
   "cell_type": "code",
   "execution_count": 5,
   "id": "77da6d7d-2a59-4d58-9fe1-06da4666e248",
   "metadata": {},
   "outputs": [
    {
     "name": "stdout",
     "output_type": "stream",
     "text": [
      "Original DataFrame:\n",
      "      Name  Age  Score\n",
      "0    Alice   25     88\n",
      "1      Bob   32     92\n",
      "2  Charlie   23     85\n",
      "3    David   45     95\n"
     ]
    }
   ],
   "source": [
    "print(\"Original DataFrame:\")\n",
    "print(df)"
   ]
  },
  {
   "cell_type": "code",
   "execution_count": 6,
   "id": "a1ce92fa-d339-4b0a-8e54-f975afb6dbde",
   "metadata": {},
   "outputs": [
    {
     "name": "stdout",
     "output_type": "stream",
     "text": [
      "   CustomerKey Prefix  FirstName LastName  BirthDate MaritalStatus Gender  \\\n",
      "0        11000    MR.        JON     YANG   4/8/1966             M      M   \n",
      "1        11001    MR.     EUGENE    HUANG  5/14/1965             S      M   \n",
      "2        11002    MR.      RUBEN   TORRES  8/12/1965             M      M   \n",
      "3        11003    MS.    CHRISTY      ZHU  2/15/1968             S      F   \n",
      "4        11004   MRS.  ELIZABETH  JOHNSON   8/8/1968             S      F   \n",
      "\n",
      "                     EmailAddress AnnualIncome  TotalChildren EducationLevel  \\\n",
      "0       jon24@adventure-works.com     $90,000               2      Bachelors   \n",
      "1    eugene10@adventure-works.com     $60,000               3      Bachelors   \n",
      "2     ruben35@adventure-works.com     $60,000               3      Bachelors   \n",
      "3   christy12@adventure-works.com     $70,000               0      Bachelors   \n",
      "4  elizabeth5@adventure-works.com     $80,000               5      Bachelors   \n",
      "\n",
      "     Occupation HomeOwner  \n",
      "0  Professional         Y  \n",
      "1  Professional         N  \n",
      "2  Professional         Y  \n",
      "3  Professional         N  \n",
      "4  Professional         Y  \n"
     ]
    }
   ],
   "source": [
    "customers_data = pd.read_csv(\"C:/Users/Dell/Desktop/Python/Python Data Analytics/datasets/Customers_Data.csv\", encoding='ISO-8859-1')\n",
    "print(customers_data.head())\n"
   ]
  },
  {
   "cell_type": "code",
   "execution_count": 7,
   "id": "4c42ad5c-bcbc-455b-aa3f-68d5aba2f307",
   "metadata": {},
   "outputs": [
    {
     "name": "stdout",
     "output_type": "stream",
     "text": [
      "     EEID        Full Name                 Job Title  Department  \\\n",
      "0  E02387      Emily Davis                Sr. Manger          IT   \n",
      "1  E04105    Theodore Dinh       Technical Architect          IT   \n",
      "2  E02572     Luna Sanders                  Director     Finance   \n",
      "3  E02832  Penelope Jordan  Computer Systems Manager          IT   \n",
      "4  E01639        Austin Vo               Sr. Analyst     Finance   \n",
      "5  E00644     Joshua Gupta    Account Representative       Sales   \n",
      "6  E01550      Ruby Barnes                   Manager          IT   \n",
      "7  E04332      Luke Martin                   Analyst     Finance   \n",
      "8  E04533    Easton Bailey                   Manager  Accounting   \n",
      "9  E03838  Madeline Walker               Sr. Analyst     Finance   \n",
      "\n",
      "            Business Unit  Gender  Ethnicity  Age  Hire Date  Annual Salary  \\\n",
      "0  Research & Development  Female      Black   55 2016-04-08         141604   \n",
      "1           Manufacturing    Male      Asian   59 1997-11-29          99975   \n",
      "2     Speciality Products  Female  Caucasian   50 2006-10-26         163099   \n",
      "3           Manufacturing  Female  Caucasian   26 2019-09-27          84913   \n",
      "4           Manufacturing    Male      Asian   55 1995-11-20          95409   \n",
      "5               Corporate    Male      Asian   57 2017-01-24          50994   \n",
      "6               Corporate  Female  Caucasian   27 2020-07-01         119746   \n",
      "7           Manufacturing    Male      Black   25 2020-05-16          41336   \n",
      "8           Manufacturing    Male  Caucasian   29 2019-01-25         113527   \n",
      "9     Speciality Products  Female  Caucasian   34 2018-06-13          77203   \n",
      "\n",
      "   Bonus %        Country       City  Exit Date  \n",
      "0     0.15  United States    Seattle 2021-10-16  \n",
      "1     0.00          China  Chongqing        NaT  \n",
      "2     0.20  United States    Chicago        NaT  \n",
      "3     0.07  United States    Chicago        NaT  \n",
      "4     0.00  United States    Phoenix        NaT  \n",
      "5     0.00          China  Chongqing        NaT  \n",
      "6     0.10  United States    Phoenix        NaT  \n",
      "7     0.00  United States      Miami 2021-05-20  \n",
      "8     0.06  United States     Austin        NaT  \n",
      "9     0.00  United States    Chicago        NaT  \n"
     ]
    }
   ],
   "source": [
    "expesne_data = pd.read_excel(\"C:/Users/Dell/Desktop/Python/Python Data Analytics/datasets/ESD.xlsx\")\n",
    "print(expesne_data.head(10))"
   ]
  },
  {
   "cell_type": "code",
   "execution_count": 8,
   "id": "3d4dc991-932f-442c-b60b-579db67815e1",
   "metadata": {},
   "outputs": [
    {
     "name": "stdout",
     "output_type": "stream",
     "text": [
      "<class 'pandas.core.frame.DataFrame'>\n",
      "RangeIndex: 1000 entries, 0 to 999\n",
      "Data columns (total 14 columns):\n",
      " #   Column         Non-Null Count  Dtype         \n",
      "---  ------         --------------  -----         \n",
      " 0   EEID           1000 non-null   object        \n",
      " 1   Full Name      1000 non-null   object        \n",
      " 2   Job Title      1000 non-null   object        \n",
      " 3   Department     1000 non-null   object        \n",
      " 4   Business Unit  1000 non-null   object        \n",
      " 5   Gender         1000 non-null   object        \n",
      " 6   Ethnicity      1000 non-null   object        \n",
      " 7   Age            1000 non-null   int64         \n",
      " 8   Hire Date      1000 non-null   datetime64[ns]\n",
      " 9   Annual Salary  1000 non-null   int64         \n",
      " 10  Bonus %        1000 non-null   float64       \n",
      " 11  Country        1000 non-null   object        \n",
      " 12  City           1000 non-null   object        \n",
      " 13  Exit Date      85 non-null     datetime64[ns]\n",
      "dtypes: datetime64[ns](2), float64(1), int64(2), object(9)\n",
      "memory usage: 109.5+ KB\n",
      "None\n"
     ]
    }
   ],
   "source": [
    "print(expesne_data.info())"
   ]
  },
  {
   "cell_type": "code",
   "execution_count": 9,
   "id": "e8ae2cab-f84b-4002-8f01-e19d45ee00f8",
   "metadata": {},
   "outputs": [
    {
     "data": {
      "text/html": [
       "<div>\n",
       "<style scoped>\n",
       "    .dataframe tbody tr th:only-of-type {\n",
       "        vertical-align: middle;\n",
       "    }\n",
       "\n",
       "    .dataframe tbody tr th {\n",
       "        vertical-align: top;\n",
       "    }\n",
       "\n",
       "    .dataframe thead th {\n",
       "        text-align: right;\n",
       "    }\n",
       "</style>\n",
       "<table border=\"1\" class=\"dataframe\">\n",
       "  <thead>\n",
       "    <tr style=\"text-align: right;\">\n",
       "      <th></th>\n",
       "      <th>Age</th>\n",
       "      <th>Hire Date</th>\n",
       "      <th>Annual Salary</th>\n",
       "      <th>Bonus %</th>\n",
       "      <th>Exit Date</th>\n",
       "    </tr>\n",
       "  </thead>\n",
       "  <tbody>\n",
       "    <tr>\n",
       "      <th>count</th>\n",
       "      <td>1000.000000</td>\n",
       "      <td>1000</td>\n",
       "      <td>1000.000000</td>\n",
       "      <td>1000.000000</td>\n",
       "      <td>85</td>\n",
       "    </tr>\n",
       "    <tr>\n",
       "      <th>mean</th>\n",
       "      <td>44.382000</td>\n",
       "      <td>2012-04-07 02:54:14.400000</td>\n",
       "      <td>113217.365000</td>\n",
       "      <td>0.088660</td>\n",
       "      <td>2016-11-02 18:04:14.117647104</td>\n",
       "    </tr>\n",
       "    <tr>\n",
       "      <th>min</th>\n",
       "      <td>25.000000</td>\n",
       "      <td>1992-01-09 00:00:00</td>\n",
       "      <td>40063.000000</td>\n",
       "      <td>0.000000</td>\n",
       "      <td>1994-12-18 00:00:00</td>\n",
       "    </tr>\n",
       "    <tr>\n",
       "      <th>25%</th>\n",
       "      <td>35.000000</td>\n",
       "      <td>2007-02-14 00:00:00</td>\n",
       "      <td>71430.250000</td>\n",
       "      <td>0.000000</td>\n",
       "      <td>2014-12-25 00:00:00</td>\n",
       "    </tr>\n",
       "    <tr>\n",
       "      <th>50%</th>\n",
       "      <td>45.000000</td>\n",
       "      <td>2014-02-15 12:00:00</td>\n",
       "      <td>96557.000000</td>\n",
       "      <td>0.000000</td>\n",
       "      <td>2019-05-23 00:00:00</td>\n",
       "    </tr>\n",
       "    <tr>\n",
       "      <th>75%</th>\n",
       "      <td>54.000000</td>\n",
       "      <td>2018-06-22 00:00:00</td>\n",
       "      <td>150782.250000</td>\n",
       "      <td>0.150000</td>\n",
       "      <td>2021-04-09 00:00:00</td>\n",
       "    </tr>\n",
       "    <tr>\n",
       "      <th>max</th>\n",
       "      <td>65.000000</td>\n",
       "      <td>2021-12-26 00:00:00</td>\n",
       "      <td>258498.000000</td>\n",
       "      <td>0.400000</td>\n",
       "      <td>2022-08-17 00:00:00</td>\n",
       "    </tr>\n",
       "    <tr>\n",
       "      <th>std</th>\n",
       "      <td>11.246981</td>\n",
       "      <td>NaN</td>\n",
       "      <td>53545.985644</td>\n",
       "      <td>0.117856</td>\n",
       "      <td>NaN</td>\n",
       "    </tr>\n",
       "  </tbody>\n",
       "</table>\n",
       "</div>"
      ],
      "text/plain": [
       "               Age                   Hire Date  Annual Salary      Bonus %  \\\n",
       "count  1000.000000                        1000    1000.000000  1000.000000   \n",
       "mean     44.382000  2012-04-07 02:54:14.400000  113217.365000     0.088660   \n",
       "min      25.000000         1992-01-09 00:00:00   40063.000000     0.000000   \n",
       "25%      35.000000         2007-02-14 00:00:00   71430.250000     0.000000   \n",
       "50%      45.000000         2014-02-15 12:00:00   96557.000000     0.000000   \n",
       "75%      54.000000         2018-06-22 00:00:00  150782.250000     0.150000   \n",
       "max      65.000000         2021-12-26 00:00:00  258498.000000     0.400000   \n",
       "std      11.246981                         NaN   53545.985644     0.117856   \n",
       "\n",
       "                           Exit Date  \n",
       "count                             85  \n",
       "mean   2016-11-02 18:04:14.117647104  \n",
       "min              1994-12-18 00:00:00  \n",
       "25%              2014-12-25 00:00:00  \n",
       "50%              2019-05-23 00:00:00  \n",
       "75%              2021-04-09 00:00:00  \n",
       "max              2022-08-17 00:00:00  \n",
       "std                              NaN  "
      ]
     },
     "execution_count": 9,
     "metadata": {},
     "output_type": "execute_result"
    }
   ],
   "source": [
    "expesne_data.describe()"
   ]
  },
  {
   "cell_type": "code",
   "execution_count": 10,
   "id": "6c54738d-9408-457f-a5f5-6a71a54cd1d2",
   "metadata": {},
   "outputs": [
    {
     "data": {
      "text/plain": [
       "EEID               0\n",
       "Full Name          0\n",
       "Job Title          0\n",
       "Department         0\n",
       "Business Unit      0\n",
       "Gender             0\n",
       "Ethnicity          0\n",
       "Age                0\n",
       "Hire Date          0\n",
       "Annual Salary      0\n",
       "Bonus %            0\n",
       "Country            0\n",
       "City               0\n",
       "Exit Date        915\n",
       "dtype: int64"
      ]
     },
     "execution_count": 10,
     "metadata": {},
     "output_type": "execute_result"
    }
   ],
   "source": [
    "expesne_data.isnull().sum()"
   ]
  },
  {
   "cell_type": "code",
   "execution_count": 11,
   "id": "211a8f11-a505-4867-b4c2-659c7880aee2",
   "metadata": {},
   "outputs": [
    {
     "name": "stdout",
     "output_type": "stream",
     "text": [
      "    EEID First Name Last Name gender   salary\n",
      "0  EMP01     ayushi      khan      F      NaN\n",
      "1  EMP02      rohit      khan      M  25000.0\n",
      "2  EMP03   pranjali      khan    NaN  27000.0\n",
      "3  EMP01     ayushi      khan      F  20000.0\n",
      "4  EMP05        NaN      khan      M  25000.0\n"
     ]
    }
   ],
   "source": [
    "company_data = pd.read_csv(\"C:/Users/Dell/Desktop/Python/Python Data Analytics/datasets/company1.csv\")\n",
    "df = pd.DataFrame(company_data)\n",
    "print(company_data.head())"
   ]
  },
  {
   "cell_type": "code",
   "execution_count": 12,
   "id": "e7ad22a2-ac66-476f-8f13-caae149431fa",
   "metadata": {},
   "outputs": [
    {
     "name": "stdout",
     "output_type": "stream",
     "text": [
      "2\n"
     ]
    }
   ],
   "source": [
    "print(company_data[\"EEID\"].duplicated().sum())"
   ]
  },
  {
   "cell_type": "code",
   "execution_count": 13,
   "id": "e77d50ce-c5c2-4ae1-a54f-a1a0168d4b53",
   "metadata": {},
   "outputs": [
    {
     "name": "stdout",
     "output_type": "stream",
     "text": [
      "    EEID First Name Last Name gender   salary\n",
      "0  EMP01     ayushi      khan      F      NaN\n",
      "1  EMP02      rohit      khan      M  25000.0\n",
      "2  EMP03   pranjali      khan    NaN  27000.0\n",
      "4  EMP05        NaN      khan      M  25000.0\n",
      "5  EMP06      rohit      khan      M      NaN\n"
     ]
    }
   ],
   "source": [
    "df_unique = df.drop_duplicates(subset=\"EEID\")\n",
    "print(df_unique)"
   ]
  },
  {
   "cell_type": "code",
   "execution_count": 14,
   "id": "a526ceac-34b8-472c-b640-4d693346733b",
   "metadata": {},
   "outputs": [
    {
     "data": {
      "text/plain": [
       "EEID          0\n",
       "First Name    1\n",
       "Last Name     0\n",
       "gender        1\n",
       "salary        2\n",
       "dtype: int64"
      ]
     },
     "execution_count": 14,
     "metadata": {},
     "output_type": "execute_result"
    }
   ],
   "source": [
    "company_data.isnull().sum()"
   ]
  },
  {
   "cell_type": "code",
   "execution_count": 15,
   "id": "b4c828e9-03c9-4f9e-b908-1799ff3244e5",
   "metadata": {},
   "outputs": [
    {
     "name": "stdout",
     "output_type": "stream",
     "text": [
      "    EEID First Name Last Name gender   salary\n",
      "1  EMP02      rohit      khan      M  25000.0\n",
      "3  EMP01     ayushi      khan      F  20000.0\n",
      "6  EMP02      rohit      khan      M  25000.0\n"
     ]
    }
   ],
   "source": [
    "print(company_data.dropna())"
   ]
  },
  {
   "cell_type": "code",
   "execution_count": 16,
   "id": "418bbac1-994e-46dc-84b2-fc24f78c1309",
   "metadata": {},
   "outputs": [
    {
     "name": "stdout",
     "output_type": "stream",
     "text": [
      "    EEID First Name Last Name gender   salary\n",
      "0  EMP01     ayushi      khan      F      NaN\n",
      "1  EMP02      rohit      khan      M  25000.0\n",
      "2  EMP03   pranjali      khan    NaN  27000.0\n",
      "3  EMP01     ayushi      khan      F  20000.0\n",
      "4  EMP05        NaN      khan      M  25000.0\n",
      "5  EMP06      rohit      khan      M      NaN\n",
      "6  EMP02      rohit      khan      M  25000.0\n",
      "24400.0\n"
     ]
    }
   ],
   "source": [
    "print(company_data)\n",
    "print(company_data[\"salary\"].mean())"
   ]
  },
  {
   "cell_type": "code",
   "execution_count": 17,
   "id": "cc4d6b51-5fa1-482b-b061-a7d8e360e9c9",
   "metadata": {},
   "outputs": [
    {
     "name": "stdout",
     "output_type": "stream",
     "text": [
      "    EEID First Name Last Name gender   salary\n",
      "0  EMP01     ayushi      khan      F  30000.0\n",
      "1  EMP02      rohit      khan      M  25000.0\n",
      "2  EMP03   pranjali      khan  30000  27000.0\n",
      "3  EMP01     ayushi      khan      F  20000.0\n",
      "4  EMP05      30000      khan      M  25000.0\n",
      "5  EMP06      rohit      khan      M  30000.0\n",
      "6  EMP02      rohit      khan      M  25000.0\n"
     ]
    }
   ],
   "source": [
    "import numpy as np\n",
    "print(company_data.replace(np.nan,30000))"
   ]
  },
  {
   "cell_type": "code",
   "execution_count": 18,
   "id": "f69e4411-bf75-42b1-be06-2c6abb92230c",
   "metadata": {},
   "outputs": [
    {
     "name": "stdout",
     "output_type": "stream",
     "text": [
      "    EEID First Name Last Name gender   salary\n",
      "0  EMP01     ayushi      khan      F  26000.0\n",
      "1  EMP02      rohit      khan      M  25000.0\n",
      "2  EMP03   pranjali      khan    NaN  27000.0\n",
      "3  EMP01     ayushi      khan      F  20000.0\n",
      "4  EMP05        NaN      khan      M  25000.0\n",
      "5  EMP06      rohit      khan      M  26000.0\n",
      "6  EMP02      rohit      khan      M  25000.0\n"
     ]
    }
   ],
   "source": [
    "company_data[\"salary\"]   = company_data[\"salary\"].replace(np.nan,26000)\n",
    "print(company_data)"
   ]
  },
  {
   "cell_type": "code",
   "execution_count": 19,
   "id": "d2089cfa-caf2-40ad-8db4-5c2639ce1ad5",
   "metadata": {},
   "outputs": [
    {
     "name": "stdout",
     "output_type": "stream",
     "text": [
      "24857.14285714286\n"
     ]
    }
   ],
   "source": [
    "print(company_data[\"salary\"].mean())"
   ]
  },
  {
   "cell_type": "code",
   "execution_count": 20,
   "id": "6543a7b5-bdae-4af5-996e-caec39279b0e",
   "metadata": {},
   "outputs": [
    {
     "name": "stdout",
     "output_type": "stream",
     "text": [
      "    EEID First Name Last Name gender   salary\n",
      "0  EMP01     ayushi      khan      F  26000.0\n",
      "1  EMP02      rohit      khan      M  25000.0\n",
      "2  EMP03   pranjali      khan      M  27000.0\n",
      "3  EMP01     ayushi      khan      F  20000.0\n",
      "4  EMP05     ayushi      khan      M  25000.0\n",
      "5  EMP06      rohit      khan      M  26000.0\n",
      "6  EMP02      rohit      khan      M  25000.0\n"
     ]
    }
   ],
   "source": [
    "print(company_data.ffill())\n"
   ]
  },
  {
   "cell_type": "code",
   "execution_count": 21,
   "id": "2c11f9a5-0eca-4954-a901-5094f4c90aae",
   "metadata": {},
   "outputs": [
    {
     "name": "stdout",
     "output_type": "stream",
     "text": [
      "       EEID        Full Name                 Job Title  Department  \\\n",
      "0    E02387      Emily Davis                Sr. Manger          IT   \n",
      "1    E04105    Theodore Dinh       Technical Architect          IT   \n",
      "2    E02572     Luna Sanders                  Director     Finance   \n",
      "3    E02832  Penelope Jordan  Computer Systems Manager          IT   \n",
      "4    E01639        Austin Vo               Sr. Analyst     Finance   \n",
      "..      ...              ...                       ...         ...   \n",
      "995  E03094     Wesley Young               Sr. Analyst   Marketing   \n",
      "996  E01909     Lillian Khan                   Analyst     Finance   \n",
      "997  E04398      Oliver Yang                  Director   Marketing   \n",
      "998  E02521      Lily Nguyen               Sr. Analyst     Finance   \n",
      "999  E03545      Sofia Cheng            Vice President  Accounting   \n",
      "\n",
      "              Business Unit  Gender  Ethnicity  Age  Hire Date  Annual Salary  \\\n",
      "0    Research & Development  Female      Black   55 2016-04-08         141604   \n",
      "1             Manufacturing    Male      Asian   59 1997-11-29          99975   \n",
      "2       Speciality Products  Female  Caucasian   50 2006-10-26         163099   \n",
      "3             Manufacturing  Female  Caucasian   26 2019-09-27          84913   \n",
      "4             Manufacturing    Male      Asian   55 1995-11-20          95409   \n",
      "..                      ...     ...        ...  ...        ...            ...   \n",
      "995     Speciality Products    Male  Caucasian   33 2016-09-18          98427   \n",
      "996     Speciality Products  Female      Asian   44 2010-05-31          47387   \n",
      "997     Speciality Products    Male      Asian   31 2019-06-10         176710   \n",
      "998     Speciality Products  Female      Asian   33 2012-01-28          95960   \n",
      "999               Corporate  Female      Asian   63 2020-07-26         216195   \n",
      "\n",
      "     Bonus %        Country       City  Exit Date  \n",
      "0       0.15  United States    Seattle 2021-10-16  \n",
      "1       0.00          China  Chongqing        NaT  \n",
      "2       0.20  United States    Chicago        NaT  \n",
      "3       0.07  United States    Chicago        NaT  \n",
      "4       0.00  United States    Phoenix        NaT  \n",
      "..       ...            ...        ...        ...  \n",
      "995     0.00  United States   Columbus        NaT  \n",
      "996     0.00          China    Chengdu 2018-01-08  \n",
      "997     0.15  United States      Miami        NaT  \n",
      "998     0.00          China    Chengdu        NaT  \n",
      "999     0.31  United States      Miami        NaT  \n",
      "\n",
      "[1000 rows x 14 columns]\n"
     ]
    }
   ],
   "source": [
    "print(expesne_data)"
   ]
  },
  {
   "cell_type": "code",
   "execution_count": 22,
   "id": "58bfc915-1fac-4bb1-834b-7adc32f23f03",
   "metadata": {},
   "outputs": [
    {
     "name": "stdout",
     "output_type": "stream",
     "text": [
      "     EEID        Full Name                 Job Title  Department  \\\n",
      "0  E02387      Emily Davis                Sr. Manger          IT   \n",
      "1  E04105    Theodore Dinh       Technical Architect          IT   \n",
      "2  E02572     Luna Sanders                  Director     Finance   \n",
      "3  E02832  Penelope Jordan  Computer Systems Manager          IT   \n",
      "4  E01639        Austin Vo               Sr. Analyst     Finance   \n",
      "5  E00644     Joshua Gupta    Account Representative       Sales   \n",
      "6  E01550      Ruby Barnes                   Manager          IT   \n",
      "7  E04332      Luke Martin                   Analyst     Finance   \n",
      "8  E04533    Easton Bailey                   Manager  Accounting   \n",
      "9  E03838  Madeline Walker               Sr. Analyst     Finance   \n",
      "\n",
      "            Business Unit  Gender  Ethnicity  Age  Hire Date  Annual Salary  \\\n",
      "0  Research & Development  Female      Black   55 2016-04-08         141604   \n",
      "1           Manufacturing    Male      Asian   59 1997-11-29          99975   \n",
      "2     Speciality Products  Female  Caucasian   50 2006-10-26         163099   \n",
      "3           Manufacturing  Female  Caucasian   26 2019-09-27          84913   \n",
      "4           Manufacturing    Male      Asian   55 1995-11-20          95409   \n",
      "5               Corporate    Male      Asian   57 2017-01-24          50994   \n",
      "6               Corporate  Female  Caucasian   27 2020-07-01         119746   \n",
      "7           Manufacturing    Male      Black   25 2020-05-16          41336   \n",
      "8           Manufacturing    Male  Caucasian   29 2019-01-25         113527   \n",
      "9     Speciality Products  Female  Caucasian   34 2018-06-13          77203   \n",
      "\n",
      "   Bonus %        Country       City  Exit Date GetsBonus  \n",
      "0     0.15  United States    Seattle 2021-10-16     bonus  \n",
      "1     0.00          China  Chongqing        NaT  no bonus  \n",
      "2     0.20  United States    Chicago        NaT     bonus  \n",
      "3     0.07  United States    Chicago        NaT     bonus  \n",
      "4     0.00  United States    Phoenix        NaT  no bonus  \n",
      "5     0.00          China  Chongqing        NaT  no bonus  \n",
      "6     0.10  United States    Phoenix        NaT     bonus  \n",
      "7     0.00  United States      Miami 2021-05-20  no bonus  \n",
      "8     0.06  United States     Austin        NaT     bonus  \n",
      "9     0.00  United States    Chicago        NaT  no bonus  \n"
     ]
    }
   ],
   "source": [
    "expesne_data.loc[expesne_data[\"Bonus %\"] == 0, \"GetsBonus\"] = \"no bonus\"\n",
    "expesne_data.loc[expesne_data[\"Bonus %\"] > 0, \"GetsBonus\"] = \"bonus\"\n",
    "print(expesne_data.head(10))"
   ]
  },
  {
   "cell_type": "code",
   "execution_count": 23,
   "id": "f7dd7994-abb6-4fc5-82f6-41dd5ff97709",
   "metadata": {},
   "outputs": [
    {
     "name": "stdout",
     "output_type": "stream",
     "text": [
      "Number of employees with no bonus: 525\n"
     ]
    }
   ],
   "source": [
    "count_no_bonus = expesne_data[expesne_data[\"GetsBonus\"] == \"no bonus\"].shape[0]\n",
    "print(f\"Number of employees with no bonus: {count_no_bonus}\")"
   ]
  },
  {
   "cell_type": "code",
   "execution_count": 24,
   "id": "522e3e1e-3555-41b0-b037-9ecec25fdbaf",
   "metadata": {},
   "outputs": [
    {
     "name": "stdout",
     "output_type": "stream",
     "text": [
      "    EEID First Name Last Name gender   salary      Full Name\n",
      "0  EMP01     ayushi      khan      F  26000.0    Ayushi Khan\n",
      "1  EMP02      rohit      khan      M  25000.0     Rohit Khan\n",
      "2  EMP03   pranjali      khan    NaN  27000.0  Pranjali Khan\n",
      "3  EMP01     ayushi      khan      F  20000.0    Ayushi Khan\n",
      "4  EMP05        NaN      khan      M  25000.0            NaN\n",
      "5  EMP06      rohit      khan      M  26000.0     Rohit Khan\n",
      "6  EMP02      rohit      khan      M  25000.0     Rohit Khan\n"
     ]
    }
   ],
   "source": [
    "company_data[\"Full Name\"] = company_data[\"First Name\"].str.capitalize() +\" \"+company_data[\"Last Name\"].str.capitalize()\n",
    "print(company_data)"
   ]
  },
  {
   "cell_type": "code",
   "execution_count": 25,
   "id": "57762391-30a9-4bb9-9c7e-4d31702266f7",
   "metadata": {},
   "outputs": [
    {
     "name": "stdout",
     "output_type": "stream",
     "text": [
      "    EEID First Name Last Name gender   salary      Full Name\n",
      "0  EMP01     ayushi      khan      F  26000.0    Ayushi Khan\n",
      "1  EMP02      rohit      khan      M  25000.0     Rohit Khan\n",
      "2  EMP03   pranjali      khan    NaN  27000.0  Pranjali Khan\n",
      "3  EMP01     ayushi      khan      F  20000.0    Ayushi Khan\n",
      "4  EMP05        NaN      khan      M  25000.0            NaN\n",
      "2\n",
      "    EEID First Name Last Name gender   salary      Full Name\n",
      "0  EMP01     ayushi      khan      F  26000.0    Ayushi Khan\n",
      "1  EMP02      rohit      khan      M  25000.0     Rohit Khan\n",
      "2  EMP03   pranjali      khan    NaN  27000.0  Pranjali Khan\n",
      "4  EMP05        NaN      khan      M  25000.0            NaN\n",
      "5  EMP06      rohit      khan      M  26000.0     Rohit Khan\n"
     ]
    }
   ],
   "source": [
    "# Print the first few rows of the data\n",
    "print(company_data.head())\n",
    "\n",
    "# Check for duplicated EEIDs\n",
    "print(company_data[\"EEID\"].duplicated().sum())\n",
    "\n",
    "# Drop duplicates based on the EEID column\n",
    "company_data = company_data.drop_duplicates(subset=\"EEID\")\n",
    "\n",
    "# Print the updated DataFrame\n",
    "print(company_data)\n"
   ]
  },
  {
   "cell_type": "code",
   "execution_count": 26,
   "id": "d6fee64e-b5e6-4283-b57b-0a67a96a61aa",
   "metadata": {},
   "outputs": [
    {
     "name": "stdout",
     "output_type": "stream",
     "text": [
      "    EEID First Name Last Name gender   salary      Full Name   Bonus\n",
      "0  EMP01     ayushi      khan      F  26000.0    Ayushi Khan  5200.0\n",
      "1  EMP02      rohit      khan      M  25000.0     Rohit Khan  5000.0\n",
      "2  EMP03   pranjali      khan    NaN  27000.0  Pranjali Khan  5400.0\n",
      "4  EMP05        NaN      khan      M  25000.0            NaN  5000.0\n",
      "5  EMP06      rohit      khan      M  26000.0     Rohit Khan  5200.0\n"
     ]
    }
   ],
   "source": [
    "company_data[\"Bonus\"] = (company_data[\"salary\"]/100)*20\n",
    "print(company_data)"
   ]
  },
  {
   "cell_type": "code",
   "execution_count": 27,
   "id": "0307b6a7-7114-49b5-a72d-ac142ed74c5f",
   "metadata": {},
   "outputs": [
    {
     "name": "stdout",
     "output_type": "stream",
     "text": [
      "       Months\n",
      "0     January\n",
      "1    February\n",
      "2       March\n",
      "3       April\n",
      "4         May\n",
      "5        June\n",
      "6        July\n",
      "7      August\n",
      "8   September\n",
      "9     October\n",
      "10   November\n",
      "11   December\n",
      "       Months Short_months\n",
      "0     January          Jan\n",
      "1    February          Feb\n",
      "2       March          Mar\n",
      "3       April          Apr\n",
      "4         May          May\n",
      "5        June          Jun\n",
      "6        July          Jul\n",
      "7      August          Aug\n",
      "8   September          Sep\n",
      "9     October          Oct\n",
      "10   November          Nov\n",
      "11   December          Dec\n"
     ]
    }
   ],
   "source": [
    "import pandas as pd\n",
    "\n",
    "# Define the data with months\n",
    "data = {\"Months\": [\"January\", \"February\", \"March\", \"April\", \"May\", \"June\", \n",
    "                   \"July\", \"August\", \"September\", \"October\", \"November\", \"December\"]}\n",
    "\n",
    "# Create a DataFrame from the data\n",
    "a = pd.DataFrame(data)\n",
    "print(a)\n",
    "\n",
    "# Function to extract the first three characters from each month\n",
    "def extract(value):\n",
    "    return value[0:3]\n",
    "\n",
    "# Apply the 'extract' function to the 'Months' column and create a new column 'Short_months'\n",
    "a[\"Short_months\"] = a[\"Months\"].map(extract)\n",
    "\n",
    "# Print the DataFrame with the new column\n",
    "print(a)\n"
   ]
  },
  {
   "cell_type": "code",
   "execution_count": 28,
   "id": "6f1587df-23eb-4c59-8e84-75cc2bbc87f8",
   "metadata": {},
   "outputs": [
    {
     "name": "stdout",
     "output_type": "stream",
     "text": [
      "       EEID        Full Name                 Job Title  Department  \\\n",
      "0    E02387      Emily Davis                Sr. Manger          IT   \n",
      "1    E04105    Theodore Dinh       Technical Architect          IT   \n",
      "2    E02572     Luna Sanders                  Director     Finance   \n",
      "3    E02832  Penelope Jordan  Computer Systems Manager          IT   \n",
      "4    E01639        Austin Vo               Sr. Analyst     Finance   \n",
      "..      ...              ...                       ...         ...   \n",
      "995  E03094     Wesley Young               Sr. Analyst   Marketing   \n",
      "996  E01909     Lillian Khan                   Analyst     Finance   \n",
      "997  E04398      Oliver Yang                  Director   Marketing   \n",
      "998  E02521      Lily Nguyen               Sr. Analyst     Finance   \n",
      "999  E03545      Sofia Cheng            Vice President  Accounting   \n",
      "\n",
      "              Business Unit  Gender  Ethnicity  Age  Hire Date  Annual Salary  \\\n",
      "0    Research & Development  Female      Black   55 2016-04-08         141604   \n",
      "1             Manufacturing    Male      Asian   59 1997-11-29          99975   \n",
      "2       Speciality Products  Female  Caucasian   50 2006-10-26         163099   \n",
      "3             Manufacturing  Female  Caucasian   26 2019-09-27          84913   \n",
      "4             Manufacturing    Male      Asian   55 1995-11-20          95409   \n",
      "..                      ...     ...        ...  ...        ...            ...   \n",
      "995     Speciality Products    Male  Caucasian   33 2016-09-18          98427   \n",
      "996     Speciality Products  Female      Asian   44 2010-05-31          47387   \n",
      "997     Speciality Products    Male      Asian   31 2019-06-10         176710   \n",
      "998     Speciality Products  Female      Asian   33 2012-01-28          95960   \n",
      "999               Corporate  Female      Asian   63 2020-07-26         216195   \n",
      "\n",
      "     Bonus %        Country       City  Exit Date GetsBonus  \n",
      "0       0.15  United States    Seattle 2021-10-16     bonus  \n",
      "1       0.00          China  Chongqing        NaT  no bonus  \n",
      "2       0.20  United States    Chicago        NaT     bonus  \n",
      "3       0.07  United States    Chicago        NaT     bonus  \n",
      "4       0.00  United States    Phoenix        NaT  no bonus  \n",
      "..       ...            ...        ...        ...       ...  \n",
      "995     0.00  United States   Columbus        NaT  no bonus  \n",
      "996     0.00          China    Chengdu 2018-01-08  no bonus  \n",
      "997     0.15  United States      Miami        NaT     bonus  \n",
      "998     0.00          China    Chengdu        NaT  no bonus  \n",
      "999     0.31  United States      Miami        NaT     bonus  \n",
      "\n",
      "[1000 rows x 15 columns]\n"
     ]
    }
   ],
   "source": [
    "print(expesne_data)"
   ]
  },
  {
   "cell_type": "code",
   "execution_count": 33,
   "id": "bc09f16b-0d22-4ea9-bbbb-475013a18bef",
   "metadata": {},
   "outputs": [
    {
     "name": "stdout",
     "output_type": "stream",
     "text": [
      "                               EEID\n",
      "Job Title              Gender      \n",
      "Account Representative Female    15\n",
      "                       Male       6\n",
      "Analyst                Female    31\n",
      "                       Male      20\n",
      "Analyst II             Female    21\n",
      "...                             ...\n",
      "Technical Architect    Male       8\n",
      "Test Engineer          Female     7\n",
      "                       Male       5\n",
      "Vice President         Female    50\n",
      "                       Male      55\n",
      "\n",
      "[66 rows x 1 columns]\n"
     ]
    }
   ],
   "source": [
    "gp = expesne_data.groupby([\"Job Title\",\"Gender\"]).agg({\"EEID\":\"count\"})\n",
    "print(gp)"
   ]
  },
  {
   "cell_type": "code",
   "execution_count": 40,
   "id": "ef475a2a-b817-4118-9f0a-5fa9ff5f63bd",
   "metadata": {},
   "outputs": [
    {
     "name": "stdout",
     "output_type": "stream",
     "text": [
      "                        Gender\n",
      "Department      Gender        \n",
      "Accounting      Female      53\n",
      "                Male        43\n",
      "Engineering     Female      80\n",
      "                Male        78\n",
      "Finance         Female      69\n",
      "                Male        51\n",
      "Human Resources Female      64\n",
      "                Male        61\n",
      "IT              Female     119\n",
      "                Male       122\n",
      "Marketing       Female      57\n",
      "                Male        63\n",
      "Sales           Female      76\n",
      "                Male        64\n"
     ]
    }
   ],
   "source": [
    "gp1 = expesne_data.groupby([\"Department\",\"Gender\"]).agg({\"Gender\":\"count\"})\n",
    "print(gp1)"
   ]
  },
  {
   "cell_type": "code",
   "execution_count": 41,
   "id": "7f924901-b086-4d1a-9717-c976f4b31c0d",
   "metadata": {},
   "outputs": [
    {
     "name": "stdout",
     "output_type": "stream",
     "text": [
      "               Annual Salary  Age\n",
      "Country                          \n",
      "Brazil                258426   25\n",
      "China                 257194   25\n",
      "United States         258498   25\n"
     ]
    }
   ],
   "source": [
    "gp2 = expesne_data.groupby(\"Country\").agg({\"Annual Salary\":\"max\",\"Age\":\"min\"})\n",
    "print(gp2)"
   ]
  },
  {
   "cell_type": "code",
   "execution_count": 47,
   "id": "af492f6f-0bac-4900-9a60-f7c76bff8248",
   "metadata": {},
   "outputs": [
    {
     "name": "stdout",
     "output_type": "stream",
     "text": [
      "  Emp Id   Names  Age\n",
      "0    E01   Ahmed   34\n",
      "1    E02  Hassan   56\n",
      "2    E03   Aisha   23\n",
      "3    E04  Fatima   44\n",
      "4    E05    Omar   32\n",
      "5    E06  Zainab   29\n",
      "6    E07    saad   30\n",
      "\n",
      "  Emp Id  Salary\n",
      "0    E01   45000\n",
      "1    E02   56000\n",
      "2    E03   34000\n",
      "3    E04   30000\n",
      "4    E05   50000\n",
      "5    E06   47000\n"
     ]
    }
   ],
   "source": [
    "import pandas as pd\n",
    "\n",
    "# Create two datasets\n",
    "data1 = {\n",
    "    \"Emp Id\": [\"E01\", \"E02\", \"E03\", \"E04\", \"E05\", \"E06\",\"E07\"],\n",
    "    \"Names\": [\"Ahmed\", \"Hassan\", \"Aisha\", \"Fatima\", \"Omar\", \"Zainab\",\"saad\"],\n",
    "    \"Age\": [34, 56, 23, 44, 32, 29,30]\n",
    "}\n",
    "\n",
    "data2 = {\n",
    "    \"Emp Id\": [\"E01\", \"E02\", \"E03\", \"E04\", \"E05\", \"E06\"],\n",
    "    \"Salary\": [45000, 56000, 34000, 30000, 50000, 47000]\n",
    "}\n",
    "\n",
    "# Convert dictionaries to DataFrames\n",
    "df1 = pd.DataFrame(data1)\n",
    "df2 = pd.DataFrame(data2)\n",
    "\n",
    "# Print the first DataFrame\n",
    "print(df1)\n",
    "print()\n",
    "\n",
    "# Print the second DataFrame\n",
    "print(df2)\n"
   ]
  },
  {
   "cell_type": "code",
   "execution_count": 48,
   "id": "c5d3e1dc-3bac-48af-bf12-d58d3eeee221",
   "metadata": {},
   "outputs": [
    {
     "name": "stdout",
     "output_type": "stream",
     "text": [
      "  Emp Id   Names  Age   Salary\n",
      "0    E01   Ahmed   34  45000.0\n",
      "1    E02  Hassan   56  56000.0\n",
      "2    E03   Aisha   23  34000.0\n",
      "3    E04  Fatima   44  30000.0\n",
      "4    E05    Omar   32  50000.0\n",
      "5    E06  Zainab   29  47000.0\n",
      "6    E07    saad   30      NaN\n"
     ]
    }
   ],
   "source": [
    "print(pd.merge(df1,df2,on = \"Emp Id\", how = \"left\")) #by default it used the lower join"
   ]
  },
  {
   "cell_type": "code",
   "execution_count": 50,
   "id": "73a5455d-5420-4d34-9560-9bb7aa233cf8",
   "metadata": {},
   "outputs": [
    {
     "name": "stdout",
     "output_type": "stream",
     "text": [
      "  Car Model  Speed  Fuel Efficiency\n",
      "0         A     70               30\n",
      "1         B     75               28\n",
      "2         C     80               27\n",
      "3         D     85               25\n",
      "4         E     90               23\n",
      "  Car Model  Speed  Fuel Efficiency\n",
      "0         F     95               22\n",
      "1         G    100               21\n",
      "2         H    105               20\n",
      "3         I    110               19\n",
      "4         J    115               18\n",
      "  Car Model  Speed  Fuel Efficiency\n",
      "0         A     70               30\n",
      "1         B     75               28\n",
      "2         C     80               27\n",
      "3         D     85               25\n",
      "4         E     90               23\n",
      "0         F     95               22\n",
      "1         G    100               21\n",
      "2         H    105               20\n",
      "3         I    110               19\n",
      "4         J    115               18\n"
     ]
    }
   ],
   "source": [
    "import pandas as pd\n",
    "\n",
    "# First DataFrame with car details\n",
    "data1 = {\n",
    "    'Car Model': ['A', 'B', 'C', 'D', 'E'],\n",
    "    'Speed': [70, 75, 80, 85, 90],\n",
    "    'Fuel Efficiency': [30, 28, 27, 25, 23]\n",
    "}\n",
    "\n",
    "# Second DataFrame with more car details\n",
    "data2 = {\n",
    "    'Car Model': ['F', 'G', 'H', 'I', 'J'],\n",
    "    'Speed': [95, 100, 105, 110, 115],\n",
    "    'Fuel Efficiency': [22, 21, 20, 19, 18]\n",
    "}\n",
    "\n",
    "# Create DataFrames\n",
    "df1 = pd.DataFrame(data1)\n",
    "df2 = pd.DataFrame(data2)\n",
    "\n",
    "print(df1)\n",
    "print(df2)\n",
    "\n",
    "# Concatenate row-wise (default is axis=0)\n",
    "df_concat = pd.concat([df1, df2])\n",
    "\n",
    "# Print the concatenated DataFrame\n",
    "print(df_concat)\n"
   ]
  },
  {
   "cell_type": "code",
   "execution_count": 51,
   "id": "98d5b542-f1a9-4312-8dbd-e454f5b62e39",
   "metadata": {},
   "outputs": [
    {
     "name": "stdout",
     "output_type": "stream",
     "text": [
      "   Fruits  Price  Quantity\n",
      "0   mango    100        15\n",
      "1  apples    150        10\n",
      "2  banana     50        10\n",
      "3  papaya     35         3\n",
      "\n",
      "Original DataFrame (df1):\n",
      "   Fruits  Price  Quantity\n",
      "0   mango    100        15\n",
      "1  apples    150        10\n",
      "2  banana     50        10\n",
      "3  papaya     35         3\n",
      "\n",
      "Modified DataFrame (df2):\n",
      "   Fruits  Price  Quantity\n",
      "0   mango    120        12\n",
      "1  apples    175         1\n",
      "2  banana     50        10\n",
      "3  papaya     30        30\n"
     ]
    }
   ],
   "source": [
    "import pandas as pd\n",
    "\n",
    "# Create a dictionary of fruits data\n",
    "data = {\n",
    "    \"Fruits\": [\"mango\", \"apples\", \"banana\", \"papaya\"],\n",
    "    \"Price\": [100, 150, 50, 35],\n",
    "    \"Quantity\": [15, 10, 10, 3]\n",
    "}\n",
    "\n",
    "# Create DataFrame from the dictionary\n",
    "df1 = pd.DataFrame(data)\n",
    "print(df1)\n",
    "\n",
    "# Create a copy of the DataFrame\n",
    "df2 = df1.copy()\n",
    "\n",
    "# Modify values in df2\n",
    "df2.loc[0, \"Price\"] = 120\n",
    "df2.loc[1, \"Price\"] = 175\n",
    "df2.loc[3, \"Price\"] = 30\n",
    "\n",
    "df2.loc[0, \"Quantity\"] = 12\n",
    "df2.loc[1, \"Quantity\"] = 1\n",
    "df2.loc[3, \"Quantity\"] = 30\n",
    "\n",
    "# Print both DataFrames to see the differences\n",
    "print(\"\\nOriginal DataFrame (df1):\")\n",
    "print(df1)\n",
    "\n",
    "print(\"\\nModified DataFrame (df2):\")\n",
    "print(df2)\n"
   ]
  },
  {
   "cell_type": "code",
   "execution_count": 53,
   "id": "7d21cbee-1fe5-482e-b5f4-2916348f1076",
   "metadata": {},
   "outputs": [
    {
     "name": "stdout",
     "output_type": "stream",
     "text": [
      "         Price  Quantity\n",
      "0 self   100.0      15.0\n",
      "  other  120.0      12.0\n",
      "1 self   150.0      10.0\n",
      "  other  175.0       1.0\n",
      "3 self    35.0       3.0\n",
      "  other   30.0      30.0\n"
     ]
    }
   ],
   "source": [
    "print(df1.compare(df2, align_axis=0))"
   ]
  },
  {
   "cell_type": "code",
   "execution_count": 57,
   "id": "3485db53-f0dd-466b-b0fb-887485e2fb30",
   "metadata": {},
   "outputs": [
    {
     "name": "stdout",
     "output_type": "stream",
     "text": [
      "Original DataFrame:\n",
      "  keys  Names Houses Grades\n",
      "0   k1   John    red      A\n",
      "1   k2    Ben   blue      B\n",
      "2   k1  David  green      C\n",
      "3   k2  Peter    red      A\n",
      "\n",
      "Pivoted DataFrame (Houses):\n",
      "Names   Ben  David John Peter\n",
      "keys                         \n",
      "k1      NaN  green  red   NaN\n",
      "k2     blue    NaN  NaN   red\n",
      "\n",
      "Pivoted DataFrame (Grades):\n",
      "Names  Ben David John Peter\n",
      "keys                       \n",
      "k1     NaN     C    A   NaN\n",
      "k2       B   NaN  NaN     A\n",
      "\n",
      "Combined DataFrame (Houses and Grades):\n",
      "Names         Ben  David John Peter\n",
      "       keys                        \n",
      "Houses k1     NaN  green  red   NaN\n",
      "       k2    blue    NaN  NaN   red\n",
      "Grades k1     NaN      C    A   NaN\n",
      "       k2       B    NaN  NaN     A\n"
     ]
    }
   ],
   "source": [
    "import pandas as pd\n",
    "\n",
    "# Create a dictionary of data\n",
    "data = {\n",
    "    \"keys\": [\"k1\", \"k2\", \"k1\", \"k2\"],\n",
    "    \"Names\": [\"John\", \"Ben\", \"David\", \"Peter\"],\n",
    "    \"Houses\": [\"red\", \"blue\", \"green\", \"red\"],\n",
    "    \"Grades\": [\"A\", \"B\", \"C\", \"A\"]\n",
    "}\n",
    "\n",
    "# Create a DataFrame from the dictionary\n",
    "df = pd.DataFrame(data)\n",
    "print(\"Original DataFrame:\")\n",
    "print(df)\n",
    "\n",
    "# Use pivot to reshape the DataFrame for Houses\n",
    "pivoted_houses = df.pivot(index=\"keys\", columns=\"Names\", values=\"Houses\")\n",
    "\n",
    "# Use pivot to reshape the DataFrame for Grades\n",
    "pivoted_grades = df.pivot(index=\"keys\", columns=\"Names\", values=\"Grades\")\n",
    "\n",
    "# Print the pivoted DataFrames\n",
    "print(\"\\nPivoted DataFrame (Houses):\")\n",
    "print(pivoted_houses)\n",
    "\n",
    "print(\"\\nPivoted DataFrame (Grades):\")\n",
    "print(pivoted_grades)\n",
    "\n",
    "# Combine the two pivoted DataFrames (Houses and Grades)\n",
    "combined = pd.concat([pivoted_houses, pivoted_grades], keys=['Houses', 'Grades'])\n",
    "\n",
    "# Print the combined pivoted DataFrame\n",
    "print(\"\\nCombined DataFrame (Houses and Grades):\")\n",
    "print(combined)\n"
   ]
  },
  {
   "cell_type": "code",
   "execution_count": null,
   "id": "0733c2ad-8215-4e64-9895-2905abc3c546",
   "metadata": {},
   "outputs": [],
   "source": []
  }
 ],
 "metadata": {
  "kernelspec": {
   "display_name": "numpy_kernel",
   "language": "python",
   "name": "numpy_kernel"
  },
  "language_info": {
   "codemirror_mode": {
    "name": "ipython",
    "version": 3
   },
   "file_extension": ".py",
   "mimetype": "text/x-python",
   "name": "python",
   "nbconvert_exporter": "python",
   "pygments_lexer": "ipython3",
   "version": "3.11.4"
  }
 },
 "nbformat": 4,
 "nbformat_minor": 5
}
